{
 "cells": [
  {
   "cell_type": "code",
   "execution_count": 1,
   "id": "organizational-marking",
   "metadata": {},
   "outputs": [],
   "source": [
    "import pandas as pd\n",
    "import numpy as np\n",
    "import nltk\n",
    "import matplotlib.pyplot as plt\n",
    "from numpy import array\n",
    "from keras.preprocessing.text import one_hot\n",
    "from keras.preprocessing.sequence import pad_sequences\n",
    "from keras.models import Sequential\n",
    "from keras.layers.embeddings import Embedding\n",
    "from sklearn.model_selection import train_test_split\n",
    "from keras.preprocessing.text import Tokenizer\n",
    "import keras\n",
    "from tensorflow.keras.optimizers import Adam\n",
    "from tensorflow.keras.optimizers import SGD\n",
    "import tensorflow as tf\n",
    "import seaborn as sns\n",
    "from sklearn import metrics\n",
    "from sklearn.metrics import confusion_matrix"
   ]
  },
  {
   "cell_type": "code",
   "execution_count": 2,
   "id": "saving-choir",
   "metadata": {},
   "outputs": [
    {
     "name": "stdout",
     "output_type": "stream",
     "text": [
      "Total number of Reviews =  49969\n",
      "Total number of positive Reviews =  24982\n",
      "Total number of negative Reviews =  24987\n"
     ]
    },
    {
     "data": {
      "text/html": [
       "<div>\n",
       "<style scoped>\n",
       "    .dataframe tbody tr th:only-of-type {\n",
       "        vertical-align: middle;\n",
       "    }\n",
       "\n",
       "    .dataframe tbody tr th {\n",
       "        vertical-align: top;\n",
       "    }\n",
       "\n",
       "    .dataframe thead th {\n",
       "        text-align: right;\n",
       "    }\n",
       "</style>\n",
       "<table border=\"1\" class=\"dataframe\">\n",
       "  <thead>\n",
       "    <tr style=\"text-align: right;\">\n",
       "      <th></th>\n",
       "      <th>review</th>\n",
       "      <th>sentiment</th>\n",
       "    </tr>\n",
       "  </thead>\n",
       "  <tbody>\n",
       "    <tr>\n",
       "      <th>0</th>\n",
       "      <td>This movie is just crap. Even though the direc...</td>\n",
       "      <td>0</td>\n",
       "    </tr>\n",
       "    <tr>\n",
       "      <th>1</th>\n",
       "      <td>Another detailed work on the subject by Dr Dwi...</td>\n",
       "      <td>1</td>\n",
       "    </tr>\n",
       "    <tr>\n",
       "      <th>2</th>\n",
       "      <td>THE CAT O'NINE TAILS (Il Gatto a Nove Code) &lt;b...</td>\n",
       "      <td>0</td>\n",
       "    </tr>\n",
       "    <tr>\n",
       "      <th>3</th>\n",
       "      <td>Like with any movie genre, there are good gang...</td>\n",
       "      <td>0</td>\n",
       "    </tr>\n",
       "    <tr>\n",
       "      <th>4</th>\n",
       "      <td>I watched it with my mom and we were like...&lt;b...</td>\n",
       "      <td>0</td>\n",
       "    </tr>\n",
       "  </tbody>\n",
       "</table>\n",
       "</div>"
      ],
      "text/plain": [
       "                                              review  sentiment\n",
       "0  This movie is just crap. Even though the direc...          0\n",
       "1  Another detailed work on the subject by Dr Dwi...          1\n",
       "2  THE CAT O'NINE TAILS (Il Gatto a Nove Code) <b...          0\n",
       "3  Like with any movie genre, there are good gang...          0\n",
       "4  I watched it with my mom and we were like...<b...          0"
      ]
     },
     "execution_count": 2,
     "metadata": {},
     "output_type": "execute_result"
    }
   ],
   "source": [
    "#Importing the dataset\n",
    "Reviews = pd.read_csv(\"movie_data.csv\")\n",
    "Negative_Reviews = 0\n",
    "Positive_Reviews = 0\n",
    "for i,row in Reviews.iterrows():\n",
    "    if row['sentiment'] == 0:\n",
    "        Negative_Reviews += 1\n",
    "    else:\n",
    "        Positive_Reviews += 1 \n",
    "print(\"Total number of Reviews = \",len(Reviews))\n",
    "print(\"Total number of positive Reviews = \",Positive_Reviews)\n",
    "print(\"Total number of negative Reviews = \",Negative_Reviews)    \n",
    "Reviews.head()"
   ]
  },
  {
   "cell_type": "code",
   "execution_count": 3,
   "id": "scenic-romania",
   "metadata": {},
   "outputs": [
    {
     "data": {
      "text/plain": [
       "<AxesSubplot:xlabel='sentiment', ylabel='count'>"
      ]
     },
     "execution_count": 3,
     "metadata": {},
     "output_type": "execute_result"
    },
    {
     "data": {
      "image/png": "[encoded data removed]",
      "text/plain": [
       "<Figure size 432x288 with 1 Axes>"
      ]
     },
     "metadata": {
      "needs_background": "light"
     },
     "output_type": "display_data"
    }
   ],
   "source": [
    "import seaborn as sns\n",
    "\n",
    "sns.countplot(x='sentiment', data=Reviews)"
   ]
  },
  {
   "cell_type": "code",
   "execution_count": 4,
   "id": "raised-earthquake",
   "metadata": {},
   "outputs": [],
   "source": [
    "#Lowercasing\n",
    "for i,row in Reviews.iterrows():\n",
    "    X = row['review'].lower()\n",
    "    Reviews.at[i, \"review\"] = X"
   ]
  },
  {
   "cell_type": "code",
   "execution_count": 5,
   "id": "corporate-flooring",
   "metadata": {},
   "outputs": [],
   "source": [
    "import string\n",
    "#Removing punctuations    \n",
    "for i,row in Reviews.iterrows():\n",
    "    X = \"\".join([i for i in row['review'] if i not in string.punctuation])\n",
    "    Reviews.at[i, \"review\"] = X"
   ]
  },
  {
   "cell_type": "code",
   "execution_count": 6,
   "id": "embedded-necklace",
   "metadata": {},
   "outputs": [],
   "source": [
    "import re\n",
    "#Tokenization\n",
    "for i,row in Reviews.iterrows():\n",
    "    X = re.split('W+',row['review'])\n",
    "    Reviews.at[i, \"review\"] = X"
   ]
  },
  {
   "cell_type": "code",
   "execution_count": 7,
   "id": "opened-journalism",
   "metadata": {},
   "outputs": [
    {
     "data": {
      "text/html": [
       "<div>\n",
       "<style scoped>\n",
       "    .dataframe tbody tr th:only-of-type {\n",
       "        vertical-align: middle;\n",
       "    }\n",
       "\n",
       "    .dataframe tbody tr th {\n",
       "        vertical-align: top;\n",
       "    }\n",
       "\n",
       "    .dataframe thead th {\n",
       "        text-align: right;\n",
       "    }\n",
       "</style>\n",
       "<table border=\"1\" class=\"dataframe\">\n",
       "  <thead>\n",
       "    <tr style=\"text-align: right;\">\n",
       "      <th></th>\n",
       "      <th>review</th>\n",
       "      <th>sentiment</th>\n",
       "    </tr>\n",
       "  </thead>\n",
       "  <tbody>\n",
       "    <tr>\n",
       "      <th>0</th>\n",
       "      <td>this movie is just crap even though the direct...</td>\n",
       "      <td>0</td>\n",
       "    </tr>\n",
       "    <tr>\n",
       "      <th>1</th>\n",
       "      <td>another detailed work on the subject by dr dwi...</td>\n",
       "      <td>1</td>\n",
       "    </tr>\n",
       "    <tr>\n",
       "      <th>2</th>\n",
       "      <td>the cat onine tails il gatto a nove code br br...</td>\n",
       "      <td>0</td>\n",
       "    </tr>\n",
       "    <tr>\n",
       "      <th>3</th>\n",
       "      <td>like with any movie genre there are good gangs...</td>\n",
       "      <td>0</td>\n",
       "    </tr>\n",
       "    <tr>\n",
       "      <th>4</th>\n",
       "      <td>i watched it with my mom and we were likebr br...</td>\n",
       "      <td>0</td>\n",
       "    </tr>\n",
       "  </tbody>\n",
       "</table>\n",
       "</div>"
      ],
      "text/plain": [
       "                                              review  sentiment\n",
       "0  this movie is just crap even though the direct...          0\n",
       "1  another detailed work on the subject by dr dwi...          1\n",
       "2  the cat onine tails il gatto a nove code br br...          0\n",
       "3  like with any movie genre there are good gangs...          0\n",
       "4  i watched it with my mom and we were likebr br...          0"
      ]
     },
     "execution_count": 7,
     "metadata": {},
     "output_type": "execute_result"
    }
   ],
   "source": [
    "from nltk.stem.porter import PorterStemmer\n",
    "porter_stemmer = PorterStemmer()\n",
    "#Stemming\n",
    "for i,row in Reviews.iterrows():\n",
    "    for word in row['review']:\n",
    "        X = porter_stemmer.stem(word) \n",
    "    Reviews.at[i, \"review\"] = X\n",
    "Reviews.head()"
   ]
  },
  {
   "cell_type": "code",
   "execution_count": 8,
   "id": "periodic-translation",
   "metadata": {},
   "outputs": [],
   "source": [
    "X = []\n",
    "Y = []\n",
    "sentences = Reviews['review']"
   ]
  },
  {
   "cell_type": "code",
   "execution_count": 9,
   "id": "allied-hydrogen",
   "metadata": {},
   "outputs": [],
   "source": [
    "for sen in sentences:\n",
    "    X.append(sen)"
   ]
  },
  {
   "cell_type": "code",
   "execution_count": 10,
   "id": "peripheral-calvin",
   "metadata": {},
   "outputs": [],
   "source": [
    "Y = Reviews['sentiment']"
   ]
  },
  {
   "cell_type": "code",
   "execution_count": 11,
   "id": "theoretical-bangladesh",
   "metadata": {},
   "outputs": [],
   "source": [
    "#Dividing the dataset into training and testing set\n",
    "X_train, X_test, Y_train, Y_test = train_test_split(X, Y, test_size=0.30, shuffle=True)"
   ]
  },
  {
   "cell_type": "code",
   "execution_count": 12,
   "id": "annoying-allah",
   "metadata": {},
   "outputs": [],
   "source": [
    "#Tokenization\n",
    "tokenizer = Tokenizer(num_words=5000)\n",
    "tokenizer.fit_on_texts(X_train)\n",
    "\n",
    "X_train = tokenizer.texts_to_sequences(X_train)\n",
    "X_test = tokenizer.texts_to_sequences(X_test)"
   ]
  },
  {
   "cell_type": "code",
   "execution_count": 13,
   "id": "skilled-invite",
   "metadata": {},
   "outputs": [],
   "source": [
    "vocab_size = len(tokenizer.word_index) + 1\n",
    "\n",
    "maxlen = 100\n",
    "\n",
    "X_train = pad_sequences(X_train, padding='post', maxlen=maxlen)\n",
    "X_test = pad_sequences(X_test, padding='post', maxlen=maxlen)"
   ]
  },
  {
   "cell_type": "code",
   "execution_count": 14,
   "id": "infinite-studio",
   "metadata": {},
   "outputs": [
    {
     "data": {
      "text/plain": [
       "LogisticRegression()"
      ]
     },
     "execution_count": 14,
     "metadata": {},
     "output_type": "execute_result"
    }
   ],
   "source": [
    "#Logistic regression model\n",
    "from sklearn.linear_model import LogisticRegression\n",
    "logisticRegr = LogisticRegression()\n",
    "logisticRegr.fit(X_train, Y_train)"
   ]
  },
  {
   "cell_type": "code",
   "execution_count": 15,
   "id": "instructional-polyester",
   "metadata": {},
   "outputs": [
    {
     "name": "stdout",
     "output_type": "stream",
     "text": [
      "Test Accuracy for the logistic regression model =  0.514\n"
     ]
    }
   ],
   "source": [
    "score = logisticRegr.score(X_test, Y_test)\n",
    "score = round(score,3)\n",
    "print(\"Test Accuracy for the logistic regression model = \",score)"
   ]
  },
  {
   "cell_type": "code",
   "execution_count": 16,
   "id": "static-relation",
   "metadata": {},
   "outputs": [],
   "source": [
    "predictions = logisticRegr.predict(X_test)\n",
    "cm = metrics.confusion_matrix(Y_test, predictions)"
   ]
  },
  {
   "cell_type": "code",
   "execution_count": 17,
   "id": "abandoned-reading",
   "metadata": {},
   "outputs": [
    {
     "data": {
      "image/png": "[encoded data removed]",
      "text/plain": [
       "<Figure size 288x288 with 2 Axes>"
      ]
     },
     "metadata": {
      "needs_background": "light"
     },
     "output_type": "display_data"
    }
   ],
   "source": [
    "plt.figure(figsize=(4,4))\n",
    "sns.heatmap(cm, annot=True, fmt=\".3f\", linewidths=.5, square = True, cmap = 'Blues');\n",
    "plt.ylabel('Actual label');\n",
    "plt.xlabel('Predicted label');\n",
    "all_sample_title = 'Accuracy Score: {0}'.format(score)\n",
    "plt.title(all_sample_title, size = 15);"
   ]
  },
  {
   "cell_type": "code",
   "execution_count": 18,
   "id": "productive-parcel",
   "metadata": {},
   "outputs": [
    {
     "name": "stdout",
     "output_type": "stream",
     "text": [
      "              precision    recall  f1-score   support\n",
      "\n",
      "           0       0.52      0.41      0.46      7499\n",
      "           1       0.51      0.62      0.56      7492\n",
      "\n",
      "    accuracy                           0.51     14991\n",
      "   macro avg       0.52      0.51      0.51     14991\n",
      "weighted avg       0.52      0.51      0.51     14991\n",
      "\n"
     ]
    }
   ],
   "source": [
    "from sklearn.metrics import classification_report\n",
    "\n",
    "print(classification_report(Y_test, predictions))"
   ]
  },
  {
   "cell_type": "code",
   "execution_count": 19,
   "id": "multiple-dynamics",
   "metadata": {},
   "outputs": [],
   "source": [
    "#One hot encoding target values\n",
    "Y_train = tf.keras.utils.to_categorical(Y_train)\n",
    "Y_test = tf.keras.utils.to_categorical(Y_test)"
   ]
  },
  {
   "cell_type": "code",
   "execution_count": 20,
   "id": "interracial-ozone",
   "metadata": {},
   "outputs": [
    {
     "name": "stdout",
     "output_type": "stream",
     "text": [
      "Model: \"sequential\"\n",
      "_________________________________________________________________\n",
      " Layer (type)                Output Shape              Param #   \n",
      "=================================================================\n",
      " embedding (Embedding)       (None, 100, 64)           9612736   \n",
      "                                                                 \n",
      " flatten (Flatten)           (None, 6400)              0         \n",
      "                                                                 \n",
      " dense (Dense)               (None, 50)                320050    \n",
      "                                                                 \n",
      " dense_1 (Dense)             (None, 20)                1020      \n",
      "                                                                 \n",
      " dense_2 (Dense)             (None, 10)                210       \n",
      "                                                                 \n",
      " dense_3 (Dense)             (None, 2)                 22        \n",
      "                                                                 \n",
      "=================================================================\n",
      "Total params: 9,934,038\n",
      "Trainable params: 9,934,038\n",
      "Non-trainable params: 0\n",
      "_________________________________________________________________\n"
     ]
    }
   ],
   "source": [
    "#Building Model 1 \n",
    "model1 = keras.models.Sequential()\n",
    "model1.add(keras.layers.Embedding(vocab_size, 64, input_length=maxlen))\n",
    "model1.add(keras.layers.Flatten())\n",
    "model1.add(keras.layers.Dense(50, activation='sigmoid'))\n",
    "model1.add(keras.layers.Dense(20, activation='sigmoid'))\n",
    "model1.add(keras.layers.Dense(10, activation='sigmoid'))\n",
    "model1.add(keras.layers.Dense(2, activation=\"sigmoid\"))\n",
    "model1.summary()"
   ]
  },
  {
   "cell_type": "code",
   "execution_count": 21,
   "id": "color-baking",
   "metadata": {},
   "outputs": [],
   "source": [
    "#Compliling Model 1\n",
    "LR = 0.01\n",
    "opt = SGD(learning_rate=LR)\n",
    "model1.compile(optimizer = opt,\n",
    "              loss='binary_crossentropy',\n",
    "              metrics=['accuracy'])"
   ]
  },
  {
   "cell_type": "code",
   "execution_count": 22,
   "id": "informal-secretary",
   "metadata": {},
   "outputs": [
    {
     "name": "stdout",
     "output_type": "stream",
     "text": [
      "Epoch 1/10\n",
      "219/219 [==============================] - 3s 10ms/step - loss: 0.7048 - accuracy: 0.5003 - val_loss: 0.6973 - val_accuracy: 0.4986\n",
      "Epoch 2/10\n",
      "219/219 [==============================] - 2s 10ms/step - loss: 0.6949 - accuracy: 0.5003 - val_loss: 0.6938 - val_accuracy: 0.4986\n",
      "Epoch 3/10\n",
      "219/219 [==============================] - 2s 10ms/step - loss: 0.6934 - accuracy: 0.5003 - val_loss: 0.6933 - val_accuracy: 0.4986\n",
      "Epoch 4/10\n",
      "219/219 [==============================] - 2s 10ms/step - loss: 0.6932 - accuracy: 0.4999 - val_loss: 0.6932 - val_accuracy: 0.4986\n",
      "Epoch 5/10\n",
      "219/219 [==============================] - 2s 10ms/step - loss: 0.6932 - accuracy: 0.5003 - val_loss: 0.6932 - val_accuracy: 0.4986\n",
      "Epoch 6/10\n",
      "219/219 [==============================] - 2s 10ms/step - loss: 0.6932 - accuracy: 0.4979 - val_loss: 0.6932 - val_accuracy: 0.4986\n",
      "Epoch 7/10\n",
      "219/219 [==============================] - 2s 10ms/step - loss: 0.6932 - accuracy: 0.4984 - val_loss: 0.6931 - val_accuracy: 0.5013\n",
      "Epoch 8/10\n",
      "219/219 [==============================] - 2s 10ms/step - loss: 0.6932 - accuracy: 0.4981 - val_loss: 0.6931 - val_accuracy: 0.5050\n",
      "Epoch 9/10\n",
      "219/219 [==============================] - 2s 10ms/step - loss: 0.6932 - accuracy: 0.5016 - val_loss: 0.6931 - val_accuracy: 0.5014\n",
      "Epoch 10/10\n",
      "219/219 [==============================] - 2s 10ms/step - loss: 0.6932 - accuracy: 0.4967 - val_loss: 0.6931 - val_accuracy: 0.5014\n"
     ]
    }
   ],
   "source": [
    "#Training Model 1\n",
    "history = model1.fit(X_train, Y_train, epochs=10, shuffle=True, batch_size=128, validation_split=0.20)"
   ]
  },
  {
   "cell_type": "code",
   "execution_count": 24,
   "id": "drawn-aaron",
   "metadata": {},
   "outputs": [
    {
     "data": {
      "image/png": "[encoded data removed]",
      "text/plain": [
       "<Figure size 432x288 with 1 Axes>"
      ]
     },
     "metadata": {
      "needs_background": "light"
     },
     "output_type": "display_data"
    }
   ],
   "source": [
    "#Plotting the training accuracy and the validation accuracy for Model 1\n",
    "plt.title('Training Accuracy and Validation Accuracy for MLP with SGD Optimizer')\n",
    "plt.xlabel('Epoch')\n",
    "plt.ylabel('Accuracy')\n",
    "plt.plot(history.history['accuracy'], color='red', label='Training Accuracy')\n",
    "plt.plot(history.history['val_accuracy'], color='blue', label = 'Validation Accuracy')\n",
    "plt.legend(loc='upper left')\n",
    "plt.show()"
   ]
  },
  {
   "cell_type": "code",
   "execution_count": 25,
   "id": "regional-allah",
   "metadata": {},
   "outputs": [
    {
     "data": {
      "image/png": "[encoded data removed]",
      "text/plain": [
       "<Figure size 432x288 with 1 Axes>"
      ]
     },
     "metadata": {
      "needs_background": "light"
     },
     "output_type": "display_data"
    }
   ],
   "source": [
    "#Plotting the training loss and the validation loss for Model 1\n",
    "plt.title('Training Loss and Validation Loss for MLP with SGD Optimizer')\n",
    "plt.xlabel('Epoch')\n",
    "plt.ylabel('Accuracy')\n",
    "plt.plot(history.history['loss'], color='red', label='Training Loss')\n",
    "plt.plot(history.history['val_loss'], color='blue', label = 'Validation Loss')\n",
    "plt.legend(loc='upper right')\n",
    "plt.show()"
   ]
  },
  {
   "cell_type": "code",
   "execution_count": 26,
   "id": "lined-indication",
   "metadata": {},
   "outputs": [
    {
     "name": "stdout",
     "output_type": "stream",
     "text": [
      "469/469 [==============================] - 1s 2ms/step - loss: 0.6932 - accuracy: 0.4998\n",
      "Test Loss =  0.693\n",
      "Test Accuracy =  50.0 %\n"
     ]
    }
   ],
   "source": [
    "#Testing Model 1\n",
    "loss, acc = model1.evaluate(X_test, Y_test)\n",
    "acc = round(acc,3)\n",
    "print(\"Test Loss = \",round(loss,3))\n",
    "print(\"Test Accuracy = \",acc * 100.0,\"%\")"
   ]
  },
  {
   "cell_type": "code",
   "execution_count": 27,
   "id": "joint-standing",
   "metadata": {},
   "outputs": [],
   "source": [
    "Y_pred = model1.predict(X_test) \n",
    "Y_pred = np.argmax(Y_pred, axis=1)\n",
    "Y_t = np.argmax(Y_test, axis=1)\n",
    "CM = confusion_matrix(Y_t, Y_pred)"
   ]
  },
  {
   "cell_type": "code",
   "execution_count": 28,
   "id": "sharing-numbers",
   "metadata": {},
   "outputs": [
    {
     "data": {
      "image/png": "[encoded data removed]",
      "text/plain": [
       "<Figure size 288x288 with 2 Axes>"
      ]
     },
     "metadata": {
      "needs_background": "light"
     },
     "output_type": "display_data"
    }
   ],
   "source": [
    "plt.figure(figsize=(4,4))\n",
    "sns.heatmap(CM, annot=True, fmt=\".3f\", linewidths=.5, square = True, cmap = 'Blues');\n",
    "plt.ylabel('Actual label');\n",
    "plt.xlabel('Predicted label');\n",
    "all_sample_title = 'Accuracy Score: {0}'.format(acc*100.0)\n",
    "plt.title(all_sample_title, size = 15);"
   ]
  },
  {
   "cell_type": "code",
   "execution_count": 29,
   "id": "favorite-capability",
   "metadata": {},
   "outputs": [
    {
     "name": "stdout",
     "output_type": "stream",
     "text": [
      "              precision    recall  f1-score   support\n",
      "\n",
      "           0       0.00      0.00      0.00      7499\n",
      "           1       0.50      1.00      0.67      7492\n",
      "\n",
      "    accuracy                           0.50     14991\n",
      "   macro avg       0.25      0.50      0.33     14991\n",
      "weighted avg       0.25      0.50      0.33     14991\n",
      "\n"
     ]
    },
    {
     "name": "stderr",
     "output_type": "stream",
     "text": [
      "c:\\python\\python3.9.1\\lib\\site-packages\\sklearn\\metrics\\_classification.py:1308: UndefinedMetricWarning: Precision and F-score are ill-defined and being set to 0.0 in labels with no predicted samples. Use `zero_division` parameter to control this behavior.\n",
      "  _warn_prf(average, modifier, msg_start, len(result))\n",
      "c:\\python\\python3.9.1\\lib\\site-packages\\sklearn\\metrics\\_classification.py:1308: UndefinedMetricWarning: Precision and F-score are ill-defined and being set to 0.0 in labels with no predicted samples. Use `zero_division` parameter to control this behavior.\n",
      "  _warn_prf(average, modifier, msg_start, len(result))\n",
      "c:\\python\\python3.9.1\\lib\\site-packages\\sklearn\\metrics\\_classification.py:1308: UndefinedMetricWarning: Precision and F-score are ill-defined and being set to 0.0 in labels with no predicted samples. Use `zero_division` parameter to control this behavior.\n",
      "  _warn_prf(average, modifier, msg_start, len(result))\n"
     ]
    }
   ],
   "source": [
    "print(classification_report(Y_t, Y_pred))"
   ]
  },
  {
   "cell_type": "code",
   "execution_count": 30,
   "id": "given-uncertainty",
   "metadata": {},
   "outputs": [
    {
     "name": "stdout",
     "output_type": "stream",
     "text": [
      "Model: \"sequential_1\"\n",
      "_________________________________________________________________\n",
      " Layer (type)                Output Shape              Param #   \n",
      "=================================================================\n",
      " embedding_1 (Embedding)     (None, 100, 64)           9612736   \n",
      "                                                                 \n",
      " flatten_1 (Flatten)         (None, 6400)              0         \n",
      "                                                                 \n",
      " dense_4 (Dense)             (None, 50)                320050    \n",
      "                                                                 \n",
      " dense_5 (Dense)             (None, 20)                1020      \n",
      "                                                                 \n",
      " dense_6 (Dense)             (None, 10)                210       \n",
      "                                                                 \n",
      " dense_7 (Dense)             (None, 2)                 22        \n",
      "                                                                 \n",
      "=================================================================\n",
      "Total params: 9,934,038\n",
      "Trainable params: 9,934,038\n",
      "Non-trainable params: 0\n",
      "_________________________________________________________________\n"
     ]
    }
   ],
   "source": [
    "#Building Model 2\n",
    "model2 = keras.models.Sequential()\n",
    "model2.add(keras.layers.Embedding(vocab_size, 64, input_length=maxlen))\n",
    "model2.add(keras.layers.Flatten())\n",
    "model2.add(keras.layers.Dense(50, activation='sigmoid'))\n",
    "model2.add(keras.layers.Dense(20, activation='sigmoid'))\n",
    "model2.add(keras.layers.Dense(10, activation='sigmoid'))\n",
    "model2.add(keras.layers.Dense(2, activation=\"sigmoid\"))\n",
    "model2.summary()"
   ]
  },
  {
   "cell_type": "code",
   "execution_count": 31,
   "id": "alien-asbestos",
   "metadata": {},
   "outputs": [],
   "source": [
    "#Compliling Model 2 \n",
    "LR = 0.01\n",
    "opt = Adam(learning_rate=LR)\n",
    "model2.compile(optimizer = opt,\n",
    "              loss='binary_crossentropy',\n",
    "              metrics=['accuracy'])"
   ]
  },
  {
   "cell_type": "code",
   "execution_count": 32,
   "id": "limited-possible",
   "metadata": {},
   "outputs": [
    {
     "name": "stdout",
     "output_type": "stream",
     "text": [
      "Epoch 1/10\n",
      "219/219 [==============================] - 38s 170ms/step - loss: 0.4692 - accuracy: 0.7830 - val_loss: 0.3704 - val_accuracy: 0.8396\n",
      "Epoch 2/10\n",
      "219/219 [==============================] - 37s 169ms/step - loss: 0.2516 - accuracy: 0.9070 - val_loss: 0.3910 - val_accuracy: 0.8323\n",
      "Epoch 3/10\n",
      "219/219 [==============================] - 37s 170ms/step - loss: 0.1231 - accuracy: 0.9634 - val_loss: 0.4908 - val_accuracy: 0.8246\n",
      "Epoch 4/10\n",
      "219/219 [==============================] - 37s 170ms/step - loss: 0.0746 - accuracy: 0.9805 - val_loss: 0.5545 - val_accuracy: 0.8268\n",
      "Epoch 5/10\n",
      "219/219 [==============================] - 37s 169ms/step - loss: 0.0539 - accuracy: 0.9872 - val_loss: 0.6132 - val_accuracy: 0.8262\n",
      "Epoch 6/10\n",
      "219/219 [==============================] - 37s 170ms/step - loss: 0.0468 - accuracy: 0.9888 - val_loss: 0.6953 - val_accuracy: 0.8223\n",
      "Epoch 7/10\n",
      "219/219 [==============================] - 37s 170ms/step - loss: 0.0426 - accuracy: 0.9902 - val_loss: 0.6372 - val_accuracy: 0.8213\n",
      "Epoch 8/10\n",
      "219/219 [==============================] - 37s 170ms/step - loss: 0.0404 - accuracy: 0.9909 - val_loss: 0.7355 - val_accuracy: 0.8176\n",
      "Epoch 9/10\n",
      "219/219 [==============================] - 38s 173ms/step - loss: 0.0423 - accuracy: 0.9900 - val_loss: 0.7026 - val_accuracy: 0.8185\n",
      "Epoch 10/10\n",
      "219/219 [==============================] - 38s 173ms/step - loss: 0.0351 - accuracy: 0.9924 - val_loss: 0.7734 - val_accuracy: 0.8188\n"
     ]
    }
   ],
   "source": [
    "#Training Model 2\n",
    "history = model2.fit(X_train, Y_train, epochs=10, shuffle=True, batch_size=128, validation_split=0.20)"
   ]
  },
  {
   "cell_type": "code",
   "execution_count": 33,
   "id": "crude-desire",
   "metadata": {},
   "outputs": [
    {
     "data": {
      "image/png": "[encoded data removed]",
      "text/plain": [
       "<Figure size 432x288 with 1 Axes>"
      ]
     },
     "metadata": {
      "needs_background": "light"
     },
     "output_type": "display_data"
    }
   ],
   "source": [
    "#Plotting the training accuracy and the validation accuracy for Model 2\n",
    "plt.title('Training Accuracy and Validation Accuracy for MLP with Adam Optimizer')\n",
    "plt.xlabel('Epoch')\n",
    "plt.ylabel('Accuracy')\n",
    "plt.plot(history.history['accuracy'], color='red', label='Training Accuracy')\n",
    "plt.plot(history.history['val_accuracy'], color='blue', label = 'Validation Accuracy')\n",
    "plt.legend(loc='center right')\n",
    "plt.show()"
   ]
  },
  {
   "cell_type": "code",
   "execution_count": 34,
   "id": "coordinate-garage",
   "metadata": {},
   "outputs": [
    {
     "data": {
      "image/png": "[encoded data removed]",
      "text/plain": [
       "<Figure size 432x288 with 1 Axes>"
      ]
     },
     "metadata": {
      "needs_background": "light"
     },
     "output_type": "display_data"
    }
   ],
   "source": [
    "#Plotting the training loss and the validation loss for Model 2\n",
    "plt.title('Training Loss and Validation Loss for MLP with Adam Optimizer')\n",
    "plt.xlabel('Epoch')\n",
    "plt.ylabel('Accuracy')\n",
    "plt.plot(history.history['loss'], color='red', label='Training Loss')\n",
    "plt.plot(history.history['val_loss'], color='blue', label = 'Validation Loss')\n",
    "plt.legend(loc='center right')\n",
    "plt.show()"
   ]
  },
  {
   "cell_type": "code",
   "execution_count": 36,
   "id": "arranged-sector",
   "metadata": {},
   "outputs": [
    {
     "name": "stdout",
     "output_type": "stream",
     "text": [
      "469/469 [==============================] - 1s 2ms/step - loss: 0.7926 - accuracy: 0.8183\n",
      "Test Loss =  0.793\n",
      "Test Accuracy =  81.8 %\n"
     ]
    }
   ],
   "source": [
    "#Testing Model 2\n",
    "loss, acc = model2.evaluate(X_test, Y_test)\n",
    "acc = round(acc,3)\n",
    "print(\"Test Loss = \",round(loss,3))\n",
    "print(\"Test Accuracy = \",acc * 100.0,\"%\")"
   ]
  },
  {
   "cell_type": "code",
   "execution_count": 37,
   "id": "aquatic-criminal",
   "metadata": {},
   "outputs": [],
   "source": [
    "Y_pred = model2.predict(X_test) \n",
    "Y_pred = np.argmax(Y_pred, axis=1)\n",
    "Y_t = np.argmax(Y_test, axis=1)\n",
    "CM = confusion_matrix(Y_t, Y_pred)"
   ]
  },
  {
   "cell_type": "code",
   "execution_count": 38,
   "id": "careful-lancaster",
   "metadata": {},
   "outputs": [
    {
     "data": {
      "image/png": "[encoded data removed]",
      "text/plain": [
       "<Figure size 288x288 with 2 Axes>"
      ]
     },
     "metadata": {
      "needs_background": "light"
     },
     "output_type": "display_data"
    }
   ],
   "source": [
    "plt.figure(figsize=(4,4))\n",
    "sns.heatmap(CM, annot=True, fmt=\".3f\", linewidths=.5, square = True, cmap = 'Blues');\n",
    "plt.ylabel('Actual label');\n",
    "plt.xlabel('Predicted label');\n",
    "all_sample_title = 'Accuracy Score: {0}'.format(acc*100.0)\n",
    "plt.title(all_sample_title, size = 15);"
   ]
  },
  {
   "cell_type": "code",
   "execution_count": 39,
   "id": "genetic-solid",
   "metadata": {},
   "outputs": [
    {
     "name": "stdout",
     "output_type": "stream",
     "text": [
      "              precision    recall  f1-score   support\n",
      "\n",
      "           0       0.83      0.81      0.82      7499\n",
      "           1       0.81      0.83      0.82      7492\n",
      "\n",
      "    accuracy                           0.82     14991\n",
      "   macro avg       0.82      0.82      0.82     14991\n",
      "weighted avg       0.82      0.82      0.82     14991\n",
      "\n"
     ]
    }
   ],
   "source": [
    "print(classification_report(Y_t, Y_pred))"
   ]
  },
  {
   "cell_type": "code",
   "execution_count": 46,
   "id": "experimental-trail",
   "metadata": {},
   "outputs": [
    {
     "name": "stdout",
     "output_type": "stream",
     "text": [
      "Model: \"sequential_5\"\n",
      "_________________________________________________________________\n",
      " Layer (type)                Output Shape              Param #   \n",
      "=================================================================\n",
      " embedding_5 (Embedding)     (None, 100, 64)           9612736   \n",
      "                                                                 \n",
      " lstm_5 (LSTM)               (None, 64)                33024     \n",
      "                                                                 \n",
      " dense_13 (Dense)            (None, 50)                3250      \n",
      "                                                                 \n",
      " dense_14 (Dense)            (None, 20)                1020      \n",
      "                                                                 \n",
      " dense_15 (Dense)            (None, 10)                210       \n",
      "                                                                 \n",
      " dense_16 (Dense)            (None, 2)                 22        \n",
      "                                                                 \n",
      "=================================================================\n",
      "Total params: 9,650,262\n",
      "Trainable params: 9,650,262\n",
      "Non-trainable params: 0\n",
      "_________________________________________________________________\n"
     ]
    }
   ],
   "source": [
    "#Building Model 3\n",
    "model3 = keras.models.Sequential()\n",
    "model3.add(keras.layers.Embedding(vocab_size, 64, input_length=maxlen))\n",
    "model3.add(keras.layers.LSTM(64))\n",
    "model3.add(keras.layers.Dense(50, activation='sigmoid'))\n",
    "model3.add(keras.layers.Dense(20, activation='sigmoid'))\n",
    "model3.add(keras.layers.Dense(10, activation='sigmoid'))\n",
    "model3.add(keras.layers.Dense(2, activation=\"sigmoid\"))\n",
    "model3.summary()"
   ]
  },
  {
   "cell_type": "code",
   "execution_count": 47,
   "id": "loving-fiber",
   "metadata": {},
   "outputs": [],
   "source": [
    "#Compliling Model 3\n",
    "LR = 0.01\n",
    "opt = Adam(learning_rate=LR)\n",
    "model3.compile(optimizer = opt,\n",
    "              loss='binary_crossentropy',\n",
    "              metrics=['accuracy'])"
   ]
  },
  {
   "cell_type": "code",
   "execution_count": 48,
   "id": "sensitive-attack",
   "metadata": {},
   "outputs": [
    {
     "name": "stdout",
     "output_type": "stream",
     "text": [
      "Epoch 1/10\n",
      "219/219 [==============================] - 54s 232ms/step - loss: 0.6555 - accuracy: 0.5976 - val_loss: 0.5546 - val_accuracy: 0.7421\n",
      "Epoch 2/10\n",
      "219/219 [==============================] - 53s 241ms/step - loss: 0.4098 - accuracy: 0.8216 - val_loss: 0.3607 - val_accuracy: 0.8386\n",
      "Epoch 3/10\n",
      "219/219 [==============================] - 52s 239ms/step - loss: 0.2990 - accuracy: 0.8789 - val_loss: 0.3999 - val_accuracy: 0.8359\n",
      "Epoch 4/10\n",
      "219/219 [==============================] - 55s 252ms/step - loss: 0.2526 - accuracy: 0.9013 - val_loss: 0.3499 - val_accuracy: 0.8491\n",
      "Epoch 5/10\n",
      "219/219 [==============================] - 52s 239ms/step - loss: 0.1987 - accuracy: 0.9255 - val_loss: 0.4035 - val_accuracy: 0.8431\n",
      "Epoch 6/10\n",
      "219/219 [==============================] - 54s 245ms/step - loss: 0.1656 - accuracy: 0.9411 - val_loss: 0.4040 - val_accuracy: 0.8415\n",
      "Epoch 7/10\n",
      "219/219 [==============================] - 55s 253ms/step - loss: 0.1409 - accuracy: 0.9515 - val_loss: 0.4395 - val_accuracy: 0.8471\n",
      "Epoch 8/10\n",
      "219/219 [==============================] - 54s 248ms/step - loss: 0.1175 - accuracy: 0.9616 - val_loss: 0.4941 - val_accuracy: 0.8406\n",
      "Epoch 9/10\n",
      "219/219 [==============================] - 53s 243ms/step - loss: 0.1010 - accuracy: 0.9674 - val_loss: 0.5184 - val_accuracy: 0.8393\n",
      "Epoch 10/10\n",
      "219/219 [==============================] - 55s 252ms/step - loss: 0.0913 - accuracy: 0.9712 - val_loss: 0.5792 - val_accuracy: 0.8290\n"
     ]
    }
   ],
   "source": [
    "#Training Model 3\n",
    "history = model3.fit(X_train, Y_train, epochs=10, shuffle=True, batch_size=128, validation_split=0.20)"
   ]
  },
  {
   "cell_type": "code",
   "execution_count": 49,
   "id": "otherwise-birth",
   "metadata": {},
   "outputs": [
    {
     "data": {
      "image/png": "[encoded data removed]",
      "text/plain": [
       "<Figure size 432x288 with 1 Axes>"
      ]
     },
     "metadata": {
      "needs_background": "light"
     },
     "output_type": "display_data"
    }
   ],
   "source": [
    "#Plotting the training accuracy and the validation accuracy for Model 3\n",
    "plt.title('Training Accuracy and Validation Accuracy for RNN with Adam Optimizer')\n",
    "plt.xlabel('Epoch')\n",
    "plt.ylabel('Accuracy')\n",
    "plt.plot(history.history['accuracy'], color='red', label='Training Accuracy')\n",
    "plt.plot(history.history['val_accuracy'], color='blue', label = 'Validation Accuracy')\n",
    "plt.legend(loc='lower right')\n",
    "plt.show()"
   ]
  },
  {
   "cell_type": "code",
   "execution_count": 57,
   "id": "romance-drove",
   "metadata": {},
   "outputs": [
    {
     "data": {
      "image/png": "[encoded data removed]",
      "text/plain": [
       "<Figure size 432x288 with 1 Axes>"
      ]
     },
     "metadata": {
      "needs_background": "light"
     },
     "output_type": "display_data"
    }
   ],
   "source": [
    "#Plotting the training loss and the validation loss for Model 3\n",
    "plt.title('Training Loss and Validation Loss for RNN with Adam Optimizer')\n",
    "plt.xlabel('Epoch')\n",
    "plt.ylabel('Accuracy')\n",
    "plt.plot(history.history['loss'], color='red', label='Training Loss')\n",
    "plt.plot(history.history['val_loss'], color='blue', label = 'Validation Loss')\n",
    "plt.legend(loc='lower left')\n",
    "plt.show()"
   ]
  },
  {
   "cell_type": "code",
   "execution_count": 52,
   "id": "solved-formation",
   "metadata": {},
   "outputs": [
    {
     "name": "stdout",
     "output_type": "stream",
     "text": [
      "469/469 [==============================] - 5s 11ms/step - loss: 0.5778 - accuracy: 0.8294\n",
      "Test Loss =  0.578\n",
      "Test Accuracy =  82.89999999999999 %\n"
     ]
    }
   ],
   "source": [
    "#Testing Model 3\n",
    "loss, acc = model3.evaluate(X_test, Y_test)\n",
    "acc = round(acc,3)\n",
    "print(\"Test Loss = \",round(loss,3))\n",
    "print(\"Test Accuracy = \",acc * 100.0,\"%\")"
   ]
  },
  {
   "cell_type": "code",
   "execution_count": 53,
   "id": "looking-palestinian",
   "metadata": {},
   "outputs": [],
   "source": [
    "Y_pred = model3.predict(X_test) \n",
    "Y_pred = np.argmax(Y_pred, axis=1)\n",
    "Y_t = np.argmax(Y_test, axis=1)\n",
    "CM = confusion_matrix(Y_t, Y_pred)"
   ]
  },
  {
   "cell_type": "code",
   "execution_count": 54,
   "id": "imported-bargain",
   "metadata": {},
   "outputs": [
    {
     "data": {
      "image/png": "[encoded data removed]",
      "text/plain": [
       "<Figure size 288x288 with 2 Axes>"
      ]
     },
     "metadata": {
      "needs_background": "light"
     },
     "output_type": "display_data"
    }
   ],
   "source": [
    "plt.figure(figsize=(4,4))\n",
    "sns.heatmap(CM, annot=True, fmt=\".3f\", linewidths=.5, square = True, cmap = 'Blues_r');\n",
    "plt.ylabel('Actual label');\n",
    "plt.xlabel('Predicted label');\n",
    "all_sample_title = 'Accuracy Score: 82.9'\n",
    "plt.title(all_sample_title, size = 15);"
   ]
  },
  {
   "cell_type": "code",
   "execution_count": 55,
   "id": "cognitive-kingston",
   "metadata": {},
   "outputs": [
    {
     "name": "stdout",
     "output_type": "stream",
     "text": [
      "              precision    recall  f1-score   support\n",
      "\n",
      "           0       0.87      0.77      0.82      7499\n",
      "           1       0.80      0.89      0.84      7492\n",
      "\n",
      "    accuracy                           0.83     14991\n",
      "   macro avg       0.83      0.83      0.83     14991\n",
      "weighted avg       0.83      0.83      0.83     14991\n",
      "\n"
     ]
    }
   ],
   "source": [
    "print(classification_report(Y_t, Y_pred))"
   ]
  },
  {
   "cell_type": "markdown",
   "id": "collect-mirror",
   "metadata": {},
   "source": [
    "#### "
   ]
  }
 ],
 "metadata": {
  "kernelspec": {
   "display_name": "Python 3",
   "language": "python",
   "name": "python3"
  },
  "language_info": {
   "codemirror_mode": {
    "name": "ipython",
    "version": 3
   },
   "file_extension": ".py",
   "mimetype": "text/x-python",
   "name": "python",
   "nbconvert_exporter": "python",
   "pygments_lexer": "ipython3",
   "version": "3.9.1"
  }
 },
 "nbformat": 4,
 "nbformat_minor": 5
}
